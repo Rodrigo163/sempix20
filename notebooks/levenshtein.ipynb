{
 "cells": [
  {
   "cell_type": "code",
   "execution_count": 3,
   "metadata": {},
   "outputs": [],
   "source": [
    "from pycocotools.coco import COCO"
   ]
  },
  {
   "cell_type": "code",
   "execution_count": 4,
   "metadata": {},
   "outputs": [],
   "source": [
    "dataDir = '/media/alex/home/mscoco'\n",
    "dataType = 'train2014'\n",
    "annFile = f'{dataDir}/annotations/instances_{dataType}.json'"
   ]
  },
  {
   "cell_type": "code",
   "execution_count": 5,
   "metadata": {},
   "outputs": [
    {
     "name": "stdout",
     "output_type": "stream",
     "text": [
      "loading annotations into memory...\n",
      "Done (t=8.64s)\n",
      "creating index...\n",
      "index created!\n"
     ]
    }
   ],
   "source": [
    "coco = COCO(annFile)"
   ]
  },
  {
   "cell_type": "code",
   "execution_count": 26,
   "metadata": {},
   "outputs": [
    {
     "name": "stdout",
     "output_type": "stream",
     "text": [
      "Category names: ['person', 'bicycle', 'car', 'motorcycle', 'airplane', 'bus', 'train', 'truck', 'boat', 'traffic light', 'fire hydrant', 'stop sign', 'parking meter', 'bench', 'bird', 'cat', 'dog', 'horse', 'sheep', 'cow', 'elephant', 'bear', 'zebra', 'giraffe', 'backpack', 'umbrella', 'handbag', 'tie', 'suitcase', 'frisbee', 'skis', 'snowboard', 'sports ball', 'kite', 'baseball bat', 'baseball glove', 'skateboard', 'surfboard', 'tennis racket', 'bottle', 'wine glass', 'cup', 'fork', 'knife', 'spoon', 'bowl', 'banana', 'apple', 'sandwich', 'orange', 'broccoli', 'carrot', 'hot dog', 'pizza', 'donut', 'cake', 'chair', 'couch', 'potted plant', 'bed', 'dining table', 'toilet', 'tv', 'laptop', 'mouse', 'remote', 'keyboard', 'cell phone', 'microwave', 'oven', 'toaster', 'sink', 'refrigerator', 'book', 'clock', 'vase', 'scissors', 'teddy bear', 'hair drier', 'toothbrush']\n"
     ]
    }
   ],
   "source": [
    "cats = coco.loadCats(coco.getCatIds())\n",
    "nms = [cat['name'] for cat in cats]\n",
    "print(\"Category names:\", nms)"
   ]
  },
  {
   "cell_type": "code",
   "execution_count": 88,
   "metadata": {},
   "outputs": [],
   "source": [
    "import numpy as np\n",
    "\n",
    "def create_subset(count):\n",
    "    \"\"\"\n",
    "    Samples count number of categories without replacement\n",
    "    and randomly samples images for each of the sampled categories\n",
    "    \"\"\"\n",
    "    distractorCats = np.random.choice(cats, count, replace=False)\n",
    "    return [np.random.choice(coco.getImgIds(catIds=cat['id'])) for cat in distractorCats]"
   ]
  },
  {
   "cell_type": "code",
   "execution_count": 89,
   "metadata": {},
   "outputs": [
    {
     "data": {
      "text/plain": [
       "[557394, 501540, 174794, 374185, 508071, 42278, 182937, 47093, 10735, 70365]"
      ]
     },
     "execution_count": 89,
     "metadata": {},
     "output_type": "execute_result"
    }
   ],
   "source": [
    "example_set = create_subset(10)\n",
    "example_set"
   ]
  },
  {
   "cell_type": "code",
   "execution_count": 55,
   "metadata": {},
   "outputs": [
    {
     "name": "stdout",
     "output_type": "stream",
     "text": [
      "loading annotations into memory...\n",
      "Done (t=0.76s)\n",
      "creating index...\n",
      "index created!\n"
     ]
    }
   ],
   "source": [
    "coco_caps = COCO(f'{dataDir}/annotations/captions_{dataType}.json')"
   ]
  },
  {
   "cell_type": "code",
   "execution_count": 63,
   "metadata": {},
   "outputs": [
    {
     "data": {
      "text/plain": [
       "('a small refrigerator on a city street outdoors',\n",
       " 'a open empty fridge sitting in a drive way next to a car',\n",
       " ['A street sign informing the public to walk their bikes across the street rather than ride them.',\n",
       "  'a open empty fridge sitting in a drive way next to a car',\n",
       "  'There is a painting by the fireplace in the living room. ',\n",
       "  'a baseball player holding a bat standing on home base.',\n",
       "  'This room is full of clothes and backpacks.',\n",
       "  'A man in grey shirt removing a slice of pizza from a box.',\n",
       "  'A woman standing in an open air market surrounded by people',\n",
       "  'A couple of people on skis on a slope top.',\n",
       "  'Young girl holding umbrella while wandering through store.',\n",
       "  'A person wearing headphones and holding a cellular phone in each hand.'])"
      ]
     },
     "execution_count": 63,
     "metadata": {},
     "output_type": "execute_result"
    }
   ],
   "source": [
    "def build_train_set(subset):\n",
    "    caption_list = list()\n",
    "    # Retrieve captions for each image and shuffle them\n",
    "    for img in example_set:\n",
    "        annIds = coco_caps.getAnnIds(img)\n",
    "        anns = coco_caps.loadAnns(annIds)\n",
    "        anns = [ann['caption'] for ann in anns]\n",
    "        np.random.shuffle(anns)\n",
    "        caption_list.append(anns)\n",
    "    \n",
    "    # Shuffle overall images\n",
    "    np.random.shuffle(caption_list)\n",
    "    \n",
    "    query = caption_list[0][0]\n",
    "    gold = caption_list[0][1]\n",
    "    leftovers = caption_list[1:]\n",
    "    distractors = [np.random.choice(leftover) for leftover in leftovers]\n",
    "    \n",
    "    distractors.append(gold)\n",
    "    np.random.shuffle(distractors)\n",
    "    \n",
    "    return query, gold, distractors\n",
    "build_train_set(example_set)"
   ]
  },
  {
   "cell_type": "code",
   "execution_count": 72,
   "metadata": {},
   "outputs": [],
   "source": [
    "def levenshtein(seq1, seq2):\n",
    "    size_x = len(seq1) + 1\n",
    "    size_y = len(seq2) + 1\n",
    "    matrix = np.zeros ((size_x, size_y))\n",
    "    for x in range(size_x):\n",
    "        matrix [x, 0] = x\n",
    "    for y in range(size_y):\n",
    "        matrix [0, y] = y\n",
    "\n",
    "    for x in range(1, size_x):\n",
    "        for y in range(1, size_y):\n",
    "            if seq1[x-1] == seq2[y-1]:\n",
    "                matrix [x,y] = min(\n",
    "                    matrix[x-1, y] + 1,\n",
    "                    matrix[x-1, y-1],\n",
    "                    matrix[x, y-1] + 1\n",
    "                )\n",
    "            else:\n",
    "                matrix [x,y] = min(\n",
    "                    matrix[x-1,y] + 1,\n",
    "                    matrix[x-1,y-1] + 1,\n",
    "                    matrix[x,y-1] + 1\n",
    "                )\n",
    "    return (matrix[size_x - 1, size_y - 1])"
   ]
  },
  {
   "cell_type": "code",
   "execution_count": 97,
   "metadata": {},
   "outputs": [
    {
     "name": "stdout",
     "output_type": "stream",
     "text": [
      "Query: A group of people are skiing and snowboarding down a mountain.\n",
      "Gold: a group of people that are skiing on a hill side\n",
      "Set: ['A group of people playing in the grass.', 'A woman is riding a horse as an audience watches.', 'People are climbing onto two small covered boats.', 'A variety of items that have been taken out of a purse.', 'Two parking meters sit on the side walk by the cars', 'A cow nuzzles a new baby calf in a barn.', 'A street with a blue bus stopped at a bus stop.', 'The sheep are gathered under the canopy of the tree.', 'A woman on her back smiles at her friend', 'a group of people that are skiing on a hill side']\n",
      "Best caption: ('a group of people that are skiing on a hill side', 31.0)\n",
      "Found!\n"
     ]
    }
   ],
   "source": [
    "import operator\n",
    "example_set = create_subset(10)\n",
    "query, gold, subset = build_train_set(example_set)\n",
    "print(\"Query:\", query)\n",
    "print(\"Gold:\",gold)\n",
    "print(\"Set:\", subset)\n",
    "\n",
    "dist = [(caption, levenshtein(query, caption)) for caption in subset]\n",
    "best_caption = min(dist, key=operator.itemgetter(1))\n",
    "\n",
    "print(\"Best caption:\", best_caption)\n",
    "if best_caption[0] == gold:\n",
    "    print(\"Found!\")\n",
    "else:\n",
    "    print(\"Wrong found!\")"
   ]
  },
  {
   "cell_type": "code",
   "execution_count": 102,
   "metadata": {},
   "outputs": [
    {
     "name": "stdout",
     "output_type": "stream",
     "text": [
      "0.42\n"
     ]
    }
   ],
   "source": [
    "acc = 0\n",
    "for i in range(100):\n",
    "    example_set = create_subset(10)\n",
    "    query, gold, subset = build_train_set(example_set)\n",
    "    dist = [(caption, levenshtein(query, caption)) for caption in subset]\n",
    "    best_caption = min(dist, key=operator.itemgetter(1))\n",
    "\n",
    "    if best_caption[0] == gold:\n",
    "        acc += 1\n",
    "print(acc / 100)"
   ]
  },
  {
   "cell_type": "code",
   "execution_count": null,
   "metadata": {},
   "outputs": [],
   "source": []
  }
 ],
 "metadata": {
  "kernelspec": {
   "display_name": "Python 3",
   "language": "python",
   "name": "python3"
  },
  "language_info": {
   "codemirror_mode": {
    "name": "ipython",
    "version": 3
   },
   "file_extension": ".py",
   "mimetype": "text/x-python",
   "name": "python",
   "nbconvert_exporter": "python",
   "pygments_lexer": "ipython3",
   "version": "3.7.5"
  }
 },
 "nbformat": 4,
 "nbformat_minor": 2
}
