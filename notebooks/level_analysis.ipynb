{
 "cells": [
  {
   "cell_type": "markdown",
   "metadata": {},
   "source": [
    "# Analyzing the contents of our levels"
   ]
  },
  {
   "cell_type": "code",
   "execution_count": 1,
   "metadata": {},
   "outputs": [],
   "source": [
    "import pickle\n",
    "import pandas as pd\n",
    "import numpy as np"
   ]
  },
  {
   "cell_type": "code",
   "execution_count": 2,
   "metadata": {},
   "outputs": [
    {
     "data": {
      "text/plain": [
       "dict_keys([2, 3, 4, 5, 6, 7, 8, 9, 10])"
      ]
     },
     "execution_count": 2,
     "metadata": {},
     "output_type": "execute_result"
    }
   ],
   "source": [
    "with open('../../../data/levels.pkl', 'rb') as input:\n",
    "    levels = pickle.load(input)\n",
    "levels.keys() #dict with keys from n = 2 to n = 10, n = number of imgs in the set"
   ]
  },
  {
   "cell_type": "code",
   "execution_count": 11,
   "metadata": {},
   "outputs": [
    {
     "data": {
      "text/plain": [
       "dict_keys([1, 2, 3, 4, 5])"
      ]
     },
     "execution_count": 11,
     "metadata": {},
     "output_type": "execute_result"
    }
   ],
   "source": [
    "levels[2].keys() #dict with keys from c = 1 to c = 5, c = number of common objects between imgs"
   ]
  },
  {
   "cell_type": "code",
   "execution_count": 12,
   "metadata": {},
   "outputs": [
    {
     "data": {
      "text/plain": [
       "50"
      ]
     },
     "execution_count": 12,
     "metadata": {},
     "output_type": "execute_result"
    }
   ],
   "source": [
    "len(levels[2][1]) #list of 50 retrieved sets with that n, c combination. "
   ]
  },
  {
   "cell_type": "code",
   "execution_count": 21,
   "metadata": {},
   "outputs": [
    {
     "data": {
      "text/plain": [
       "{'selected_set': ['train', 'handbag'],\n",
       " 'imgs': [{'license': 1,\n",
       "   'file_name': 'COCO_val2014_000000276596.jpg',\n",
       "   'coco_url': 'http://images.cocodataset.org/val2014/COCO_val2014_000000276596.jpg',\n",
       "   'height': 360,\n",
       "   'width': 640,\n",
       "   'date_captured': '2013-11-17 08:22:54',\n",
       "   'flickr_url': 'http://farm8.staticflickr.com/7460/9323446518_14d767f7de_z.jpg',\n",
       "   'id': 276596},\n",
       "  {'license': 5,\n",
       "   'file_name': 'COCO_val2014_000000144251.jpg',\n",
       "   'coco_url': 'http://images.cocodataset.org/val2014/COCO_val2014_000000144251.jpg',\n",
       "   'height': 427,\n",
       "   'width': 640,\n",
       "   'date_captured': '2013-11-16 23:14:40',\n",
       "   'flickr_url': 'http://farm9.staticflickr.com/8511/8506457483_a148cec7e2_z.jpg',\n",
       "   'id': 144251}]}"
      ]
     },
     "execution_count": 21,
     "metadata": {},
     "output_type": "execute_result"
    }
   ],
   "source": [
    "levels[2][2][0] #dict structure with 2 keys: selected_set:[categories] and imgs:[img information]\n",
    "#if the set retrieval failed, this level will contain [0,0]"
   ]
  },
  {
   "cell_type": "code",
   "execution_count": 19,
   "metadata": {},
   "outputs": [
    {
     "data": {
      "text/plain": [
       "['train', 'handbag']"
      ]
     },
     "execution_count": 19,
     "metadata": {},
     "output_type": "execute_result"
    }
   ],
   "source": [
    "levels[2][2][0]['selected_set']"
   ]
  },
  {
   "cell_type": "code",
   "execution_count": 20,
   "metadata": {},
   "outputs": [
    {
     "data": {
      "text/plain": [
       "[{'license': 1,\n",
       "  'file_name': 'COCO_val2014_000000276596.jpg',\n",
       "  'coco_url': 'http://images.cocodataset.org/val2014/COCO_val2014_000000276596.jpg',\n",
       "  'height': 360,\n",
       "  'width': 640,\n",
       "  'date_captured': '2013-11-17 08:22:54',\n",
       "  'flickr_url': 'http://farm8.staticflickr.com/7460/9323446518_14d767f7de_z.jpg',\n",
       "  'id': 276596},\n",
       " {'license': 5,\n",
       "  'file_name': 'COCO_val2014_000000144251.jpg',\n",
       "  'coco_url': 'http://images.cocodataset.org/val2014/COCO_val2014_000000144251.jpg',\n",
       "  'height': 427,\n",
       "  'width': 640,\n",
       "  'date_captured': '2013-11-16 23:14:40',\n",
       "  'flickr_url': 'http://farm9.staticflickr.com/8511/8506457483_a148cec7e2_z.jpg',\n",
       "  'id': 144251}]"
      ]
     },
     "execution_count": 20,
     "metadata": {},
     "output_type": "execute_result"
    }
   ],
   "source": [
    "levels[2][2][0]['imgs']"
   ]
  },
  {
   "cell_type": "markdown",
   "metadata": {},
   "source": [
    "## Counting zeros"
   ]
  },
  {
   "cell_type": "code",
   "execution_count": 26,
   "metadata": {},
   "outputs": [],
   "source": [
    "zero_count = {}\n",
    "for n in levels.keys():\n",
    "    \n",
    "    zero_count[n] = {}\n",
    "    \n",
    "    for c in levels[n].keys():\n",
    "        zero_count[n][c] = np.sum([1 for i in range(50) if levels[n][c][i]['selected_set'] == 0])"
   ]
  },
  {
   "cell_type": "markdown",
   "metadata": {},
   "source": [
    "### Total number of zeros"
   ]
  },
  {
   "cell_type": "code",
   "execution_count": 29,
   "metadata": {},
   "outputs": [
    {
     "name": "stdout",
     "output_type": "stream",
     "text": [
      "8.0\n"
     ]
    }
   ],
   "source": [
    "total = 0\n",
    "for n in zero_count.keys():\n",
    "    for c in zero_count[n].keys():\n",
    "        total += zero_count[n][c]\n",
    "print(total)"
   ]
  },
  {
   "cell_type": "markdown",
   "metadata": {},
   "source": [
    "Our level generator failed to find an appropriate set of images in only 8 out of 2250 cases!"
   ]
  },
  {
   "cell_type": "code",
   "execution_count": null,
   "metadata": {},
   "outputs": [],
   "source": []
  }
 ],
 "metadata": {
  "kernelspec": {
   "display_name": "Python 3",
   "language": "python",
   "name": "python3"
  },
  "language_info": {
   "codemirror_mode": {
    "name": "ipython",
    "version": 3
   },
   "file_extension": ".py",
   "mimetype": "text/x-python",
   "name": "python",
   "nbconvert_exporter": "python",
   "pygments_lexer": "ipython3",
   "version": "3.7.5"
  }
 },
 "nbformat": 4,
 "nbformat_minor": 4
}
