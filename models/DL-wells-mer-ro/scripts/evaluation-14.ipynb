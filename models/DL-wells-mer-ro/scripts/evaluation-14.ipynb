{
 "cells": [
  {
   "cell_type": "markdown",
   "metadata": {},
   "source": [
    "# Evaluation of results\n",
    "In this notebook we will evaluate the performace of our image captioning system using BLEU as our evaluation metric."
   ]
  },
  {
   "cell_type": "code",
   "execution_count": 1,
   "metadata": {},
   "outputs": [],
   "source": [
    "import warnings\n",
    "warnings.filterwarnings('ignore')\n",
    "import torch\n",
    "import torchvision.transforms as transforms\n",
    "from PIL import Image\n",
    "import numpy as np\n",
    "import pickle\n",
    "import yaml\n",
    "import pandas as pd\n",
    "from utilities import get_dataset, print_examples\n",
    "from pytorch_lightning.callbacks import ModelCheckpoint\n",
    "from pl_model import CaptionGenerator, CocoDataModule\n",
    "import os\n",
    "from bleu import BLEU"
   ]
  },
  {
   "cell_type": "markdown",
   "metadata": {},
   "source": [
    "## Automatic evaluation: BLEU \n",
    "This section of the notebook will generate the model's BLEU score."
   ]
  },
  {
   "cell_type": "code",
   "execution_count": 2,
   "metadata": {},
   "outputs": [],
   "source": [
    "# In order to speed up inference we saved dataset and test as .pkl, so we can load them faster. These pickle files are located in ../data/\n",
    "with open('../data/transform.pkl', 'rb') as output:\n",
    "    transform = pickle.load(output)\n",
    "    \n",
    "with open('../data/dataset.pkl', 'rb') as output:\n",
    "    dataset = pickle.load(output)\n",
    "    \n",
    "with open('../data/test.pkl', 'rb') as output:\n",
    "    test = pickle.load(output)\n",
    "\n",
    "#This file contains the testing processed images in tensor form, 7GB\n",
    "with open('../data/images_inference.pkl', 'rb') as output:\n",
    "    imgs = pickle.load(output)"
   ]
  },
  {
   "cell_type": "code",
   "execution_count": 3,
   "metadata": {},
   "outputs": [],
   "source": [
    "# #Slower way of loading the necessary objects. \n",
    "\n",
    "# transform = transforms.Compose(\n",
    "#         [\n",
    "#             transforms.Resize((224, 224)),\n",
    "#             transforms.ToTensor(),\n",
    "#             transforms.Normalize(mean = (0.485, 0.456, 0.406), std = (0.229, 0.224, 0.225)),\n",
    "#         ]\n",
    "#     )\n",
    "    \n",
    "# dataset, _ = get_dataset(\n",
    "#                         \"../data/images\",\n",
    "#                         \"../data/Captiones.tsv\",\n",
    "#                         transform)\n",
    "\n",
    "# test, _ = get_dataset(\n",
    "#                         \"../data/images\",\n",
    "#                         \"../data/testing_captions.tsv\",\n",
    "#                         transform)\n",
    "\n",
    "# To save our objects\n",
    "\n",
    "# with open('../data/transform.pkl', 'wb') as input:\n",
    "#     pickle.dump(transform, input)\n",
    "    \n",
    "# with open('../data/dataset.pkl', 'wb') as input:\n",
    "#     pickle.dump(dataset, input)\n",
    "    \n",
    "# with open('../data/test.pkl', 'wb') as input:\n",
    "#     pickle.dump(test, input)"
   ]
  },
  {
   "cell_type": "code",
   "execution_count": 4,
   "metadata": {},
   "outputs": [
    {
     "name": "stdout",
     "output_type": "stream",
     "text": [
      "{'embed_size': 200, 'hidden_size': 200, 'num_layers': 1, 'vocab_size': 10209}\n"
     ]
    }
   ],
   "source": [
    "# Loading the model we are evaluating\n",
    "version_number = '14'\n",
    "model = CaptionGenerator.load_from_checkpoint(checkpoint_path= 'lightning_logs/version_'+version_number+'/checkpoints/epoch=48.ckpt')\n",
    "model.eval();\n",
    "\n",
    "# Printing its parameters\n",
    "with open(r'lightning_logs/version_'+version_number+'/hparams.yaml') as file:\n",
    "    parameters = yaml.load(file, Loader = yaml.FullLoader)\n",
    "    print(parameters)"
   ]
  },
  {
   "cell_type": "code",
   "execution_count": 5,
   "metadata": {},
   "outputs": [],
   "source": [
    "# # Generating the file with all our model's predictions\n",
    "# # SLOW!\n",
    "# # Getting unique image file names\n",
    "#file_names = np.unique(np.asarray(test.df['image'])) \n",
    "\n",
    "# # We also saved a version of the transformed images in order to make inference faster.\n",
    "\n",
    "# imgs = []\n",
    "# for name in file_names:\n",
    "#     path = '../data/images/'+name\n",
    "#     imgs.append(transform(Image.open(path).convert('RGB')).unsqueeze(0))"
   ]
  },
  {
   "cell_type": "code",
   "execution_count": 6,
   "metadata": {},
   "outputs": [],
   "source": [
    "# # Generating captions for every image\n",
    "# #SLOW!\n",
    "# captions = [\" \".join(model.caption_image(image, dataset.vocab)[1:-1]) for image in imgs]\n",
    "\n",
    "# # Putting the file names and their corresponding captions together in a DataFrame to then save as .tsv\n",
    "# df = pd.DataFrame(data = {'image':file_names, 'caption':captions})\n",
    "# df.to_csv('../data/version_'+version_number+'_outputs.tsv', index = False, sep = '\\t')"
   ]
  },
  {
   "cell_type": "code",
   "execution_count": 7,
   "metadata": {},
   "outputs": [
    {
     "name": "stdout",
     "output_type": "stream",
     "text": [
      "BLEU-4 average (rounded) score: 0.692\n"
     ]
    }
   ],
   "source": [
    "evaluation = BLEU('../data/version_'+version_number+'_outputs.tsv')\n",
    "print('BLEU-4 average (rounded) score: ' + '{:.3f}'.format(evaluation.get_bleu_score()))"
   ]
  },
  {
   "cell_type": "markdown",
   "metadata": {},
   "source": [
    "## (Our) Human evaluation\n",
    "The __print_examples__  function allows us to get a quick glance of the model's performance by generating captions on the same 5 images every time."
   ]
  },
  {
   "cell_type": "code",
   "execution_count": 8,
   "metadata": {},
   "outputs": [
    {
     "name": "stdout",
     "output_type": "stream",
     "text": [
      "Example 1 CORRECT: A man talking on his phone in the public\n",
      "Example 1 OUTPUT: <SOS> a dogs stop a tracks pans with near box . <EOS>\n",
      "Example 2 CORRECT: A giraffe walking in the grass near a fence\n",
      "Example 2 OUTPUT: <SOS> a clock street with a bread zebra day with vase little . <EOS>\n",
      "Example 3 CORRECT: A group of women in a small kitchen.\n",
      "Example 3 OUTPUT: <SOS> a that riding street with couple of a zebras . <EOS>\n",
      "Example 4 CORRECT: A group of stuffed animals are lined up on a bed.\n",
      "Example 4 OUTPUT: <SOS> a flowers glass forest , tree of a cutting . <EOS>\n",
      "Example 5 CORRECT: A bowl filled with vegetables and noodles on a table.\n",
      "Example 5 OUTPUT: <SOS> a standing of sits zebra poster grass poster . <EOS>\n"
     ]
    }
   ],
   "source": [
    "print_examples(model, dataset)"
   ]
  },
  {
   "cell_type": "code",
   "execution_count": null,
   "metadata": {},
   "outputs": [],
   "source": []
  }
 ],
 "metadata": {
  "kernelspec": {
   "display_name": "Python 3",
   "language": "python",
   "name": "python3"
  },
  "language_info": {
   "codemirror_mode": {
    "name": "ipython",
    "version": 3
   },
   "file_extension": ".py",
   "mimetype": "text/x-python",
   "name": "python",
   "nbconvert_exporter": "python",
   "pygments_lexer": "ipython3",
   "version": "3.7.7"
  }
 },
 "nbformat": 4,
 "nbformat_minor": 4
}
